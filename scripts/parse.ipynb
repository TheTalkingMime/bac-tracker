{
 "cells": [
  {
   "cell_type": "code",
   "execution_count": 2,
   "metadata": {},
   "outputs": [],
   "source": [
    "import json, os, csv\n",
    "from collections import defaultdict\n",
    "\n",
    "with open('advancements/everything.json', 'r') as f:\n",
    "    adv_data = json.load(f)"
   ]
  },
  {
   "cell_type": "code",
   "execution_count": 5,
   "metadata": {},
   "outputs": [],
   "source": [
    "filtered = defaultdict(lambda:[])\n",
    "for x in list(adv_data.keys()):\n",
    "    if x == \"DataVersion\":\n",
    "        continue\n",
    "    if x[:17] != 'minecraft:recipes':\n",
    "        tab, adv = x.split('/')\n",
    "        filtered[tab].append(adv)"
   ]
  },
  {
   "cell_type": "code",
   "execution_count": 6,
   "metadata": {},
   "outputs": [
    {
     "name": "stdout",
     "output_type": "stream",
     "text": [
      "blazeandcave:biomes 59\n",
      "blazeandcave:challenges 38\n",
      "blazeandcave:bacap 23\n",
      "minecraft:adventure 35\n",
      "minecraft:story 16\n",
      "blazeandcave:statistics 60\n",
      "blazeandcave:technical 44\n",
      "blazeandcave:mining 92\n",
      "blazeandcave:weaponry 44\n",
      "blazeandcave:monsters 75\n",
      "blazeandcave:enchanting 49\n",
      "blazeandcave:redstone 45\n",
      "blazeandcave:adventure 100\n",
      "blazeandcave:animal 113\n",
      "minecraft:nether 24\n",
      "blazeandcave:nether 82\n",
      "blazeandcave:farming 57\n",
      "minecraft:husbandry 27\n",
      "blazeandcave:end 35\n",
      "blazeandcave:building 105\n",
      "blazeandcave:potion 24\n",
      "minecraft:end 9\n",
      "Printing Missing Achievements\n",
      "blazeandcave:technical/a_wizards_breakfast\n",
      "blazeandcave:technical/a_wizards_breakfast_fail\n",
      "blazeandcave:technical/below_void\n",
      "blazeandcave:technical/castaway_fail\n",
      "blazeandcave:technical/castaway_start\n",
      "blazeandcave:technical/fail_dragon_vs\n",
      "blazeandcave:technical/give_piglin_gold\n",
      "blazeandcave:technical/just_keeps_going_fail\n",
      "blazeandcave:technical/just_keeps_going_start\n",
      "blazeandcave:technical/kill_dragon\n",
      "blazeandcave:technical/kill_wither\n",
      "blazeandcave:technical/respawn_dragon\n",
      "blazeandcave:technical/respawn_wither\n",
      "blazeandcave:technical/unending_hell_end\n"
     ]
    }
   ],
   "source": [
    "for tab in filtered:\n",
    "    print(tab, len(filtered[tab]))\n",
    "\n",
    "advancements = [\n",
    "    ['display_name', 'true_name']\n",
    "]\n",
    "\n",
    "for root in ['minecraft', 'blazeandcave']:\n",
    "    folder_path = f'data/{root}/advancements'\n",
    "    for tab in os.listdir(folder_path):\n",
    "        tab_path = os.path.join(folder_path, tab)\n",
    "        root = folder_path.split('/')[1]\n",
    "        prefix = f'{root}:{tab}'\n",
    "        for adv in os.listdir(tab_path):\n",
    "            true_name = f'{prefix}/{adv[:-5]}'\n",
    "            adv_path = os.path.join(tab_path, adv)\n",
    "            try:\n",
    "                with open(adv_path, 'r') as f:\n",
    "                    data = json.load(f)\n",
    "                    display_name = data['display']['title']['translate']\n",
    "            except KeyError:\n",
    "                display_name = \"NOT AN ADVANCEMENT\"\n",
    "            advancements.append([display_name, true_name])\n",
    "\n",
    "with open('advname_to_path.csv', 'w', newline='') as csv_file:\n",
    "    writer = csv.writer(csv_file, delimiter='\\t')\n",
    "    writer.writerows(advancements)\n",
    "\n",
    "print(\"Printing Missing Achievements\")\n",
    "# print(adv_data.keys())\n",
    "for row in advancements[1:]:\n",
    "    if row[1] not in adv_data:\n",
    "        print(row[1])"
   ]
  },
  {
   "cell_type": "code",
   "execution_count": 7,
   "metadata": {},
   "outputs": [
    {
     "name": "stdout",
     "output_type": "stream",
     "text": [
      "285 818 1103\n",
      "322 823 1145\n",
      "{'spire_armor_trim', 'prize_pottery_sherd', 'heartbreak_pottery_sherd', 'raiser_armor_trim', 'burn_pottery_sherd', 'netherite_block', 'sentry_armor_trim', 'danger_pottery_sherd', 'plenty_pottery_sherd', 'dune_armor_trim', 'ward_armor_trim', 'snout_armor_trim', 'blade_pottery_sherd', 'skull_pottery_sherd', 'heart_pottery_sherd', 'host_armor_trim', 'silence_armor_trim', 'large_fern', 'recovery_compass', 'friend_pottery_sherd', 'shaper_armor_trim', 'sheaf_pottery_sherd', 'miner_pottery_sherd', 'vex_armor_trim', 'arms_up_pottery_sherd', 'eye_armor_trim', 'coast_armor_trim', 'snort_pottery_sherd', 'rib_armor_trim', 'netherite_upgrade', 'dragon_egg', 'wild_armor_trim', 'wayfinder_armor_trim', 'mourner_pottery_sherd', 'angler_pottery_sherd', 'brewer_pottery_sherd', 'howl_pottery_sherd', 'tide_armor_trim', 'tall_grass', 'deepslate_emerald_ore', 'explorer_pottery_sherd', 'shelter_pottery_sherd', 'archer_pottery_sherd'}\n"
     ]
    }
   ],
   "source": [
    "# For generating a list of all the items, and their mapping to adv\n",
    "stack_blocks = set(adv_data[\"blazeandcave:challenges/stack_all_the_blocks\"]['criteria'].keys())\n",
    "stack_items = set(adv_data[\"blazeandcave:challenges/stack_all_the_items\"]['criteria'].keys())\n",
    "\n",
    "blocks = set(adv_data[\"blazeandcave:challenges/all_the_blocks\"]['criteria'].keys())\n",
    "items = set(adv_data[\"blazeandcave:challenges/all_the_items\"]['criteria'].keys())\n",
    "\n",
    "print(len(stack_items), len(stack_blocks), len(stack_items.union(stack_blocks)))\n",
    "print(len(items), len(blocks), len(items.union(blocks)))\n",
    "print(items.union(blocks).difference(stack_items.union(stack_blocks)))\n",
    "all_items = items.union(blocks)\n",
    "stack_all_items = stack_items.union(stack_blocks)\n",
    "\n",
    "everything = all_items.union(stack_all_items)\n",
    "\n",
    "item_to_adv = []\n",
    "\n",
    "for item in list(everything):\n",
    "    adv = None\n",
    "    if item in stack_blocks:\n",
    "        adv = \"blazeandcave:challenges/stack_all_the_blocks\"\n",
    "    elif item in stack_items:\n",
    "        adv = \"blazeandcave:challenges/stack_all_the_items\"\n",
    "    elif item in blocks:\n",
    "        adv = \"blazeandcave:challenges/all_the_blocks\"\n",
    "    elif item in items:\n",
    "        adv = \"blazeandcave:challenges/all_the_items\"\n",
    "    item_to_adv.append([item, adv])\n",
    "\n",
    "item_to_adv = sorted(item_to_adv,  key=lambda x: x[0])\n",
    "\n",
    "with open('item_to_adv.csv', 'w', newline='') as csv_file:\n",
    "    writer = csv.writer(csv_file, delimiter='\\t')\n",
    "    writer.writerows(item_to_adv)"
   ]
  },
  {
   "cell_type": "code",
   "execution_count": 8,
   "metadata": {},
   "outputs": [],
   "source": [
    "# Adding column for stack sizes\n",
    "with open('data/blazeandcave/advancements/challenges/stack_all_the_blocks.json') as f:\n",
    "    stack_blocks_json = json.load(f)['criteria']\n",
    "\n",
    "with open('data/blazeandcave/advancements/challenges/stack_all_the_items.json') as f:\n",
    "    stack_items_json = json.load(f)['criteria']\n",
    "\n",
    "item_adv_stacksize = []\n",
    "for item, adv in item_to_adv:\n",
    "    stacksize = 1\n",
    "    try:\n",
    "        if item in stack_blocks_json:\n",
    "            stacksize = stack_blocks_json[item]['conditions']['items'][0]['count']\n",
    "        elif item in stack_items_json:\n",
    "            stacksize = stack_items_json[item]['conditions']['items'][0]['count']\n",
    "    except KeyError:\n",
    "        pass\n",
    "    name = ' '.join(word.capitalize() for word in item.split('_'))\n",
    "    item_adv_stacksize.append([name, item, adv, stacksize])\n",
    "\n",
    "item_adv_stacksize = sorted(item_adv_stacksize, key=lambda x: x[0])\n",
    "\n",
    "with open('item_adv_stacksize.csv', 'w', newline='') as csv_file:\n",
    "    writer = csv.writer(csv_file, delimiter='\\t')\n",
    "    writer.writerows(item_adv_stacksize)"
   ]
  },
  {
   "cell_type": "code",
   "execution_count": 2,
   "metadata": {},
   "outputs": [],
   "source": [
    "adv_col = []\n",
    "with open('adv_col.csv') as f:\n",
    "    reader = csv.reader(f, delimiter='\\t')\n",
    "    for row in reader:\n",
    "        adv_col.append(row)\n",
    "\n",
    "adv_to_cell = []\n",
    "for i, adv in enumerate(adv_col):\n",
    "    adv_to_cell.append([adv, f'E{i+'])"
   ]
  },
  {
   "cell_type": "code",
   "execution_count": 3,
   "metadata": {},
   "outputs": [
    {
     "name": "stdout",
     "output_type": "stream",
     "text": [
      "IF(ISBLANK(A3), {\"\",\"\",\"\"}, {{A3, \"Adv/Item\", \"Description\"};IFERROR({FILTER({'All Items/Blocks'!$C$2:$D, 'All Items/Blocks'!$G$2:$G}, 'All Items/Blocks'!$B$2:$B=A3);{\"\",\"\",\"\"}}, {\"\", \"\", \"\"})});IF(ISBLANK(A4), {\"\",\"\",\"\"}, {{A4, \"Adv/Item\", \"Description\"};IFERROR({FILTER({'All Items/Blocks'!$C$2:$D, 'All Items/Blocks'!$G$2:$G}, 'All Items/Blocks'!$B$2:$B=A4);{\"\",\"\",\"\"}}, {\"\", \"\", \"\"})});IF(ISBLANK(A5), {\"\",\"\",\"\"}, {{A5, \"Adv/Item\", \"Description\"};IFERROR({FILTER({'All Items/Blocks'!$C$2:$D, 'All Items/Blocks'!$G$2:$G}, 'All Items/Blocks'!$B$2:$B=A5);{\"\",\"\",\"\"}}, {\"\", \"\", \"\"})});IF(ISBLANK(A6), {\"\",\"\",\"\"}, {{A6, \"Adv/Item\", \"Description\"};IFERROR({FILTER({'All Items/Blocks'!$C$2:$D, 'All Items/Blocks'!$G$2:$G}, 'All Items/Blocks'!$B$2:$B=A6);{\"\",\"\",\"\"}}, {\"\", \"\", \"\"})});IF(ISBLANK(A7), {\"\",\"\",\"\"}, {{A7, \"Adv/Item\", \"Description\"};IFERROR({FILTER({'All Items/Blocks'!$C$2:$D, 'All Items/Blocks'!$G$2:$G}, 'All Items/Blocks'!$B$2:$B=A7);{\"\",\"\",\"\"}}, {\"\", \"\", \"\"})});IF(ISBLANK(A8), {\"\",\"\",\"\"}, {{A8, \"Adv/Item\", \"Description\"};IFERROR({FILTER({'All Items/Blocks'!$C$2:$D, 'All Items/Blocks'!$G$2:$G}, 'All Items/Blocks'!$B$2:$B=A8);{\"\",\"\",\"\"}}, {\"\", \"\", \"\"})});IF(ISBLANK(A9), {\"\",\"\",\"\"}, {{A9, \"Adv/Item\", \"Description\"};IFERROR({FILTER({'All Items/Blocks'!$C$2:$D, 'All Items/Blocks'!$G$2:$G}, 'All Items/Blocks'!$B$2:$B=A9);{\"\",\"\",\"\"}}, {\"\", \"\", \"\"})});IF(ISBLANK(A10), {\"\",\"\",\"\"}, {{A10, \"Adv/Item\", \"Description\"};IFERROR({FILTER({'All Items/Blocks'!$C$2:$D, 'All Items/Blocks'!$G$2:$G}, 'All Items/Blocks'!$B$2:$B=A10);{\"\",\"\",\"\"}}, {\"\", \"\", \"\"})});IF(ISBLANK(A11), {\"\",\"\",\"\"}, {{A11, \"Adv/Item\", \"Description\"};IFERROR({FILTER({'All Items/Blocks'!$C$2:$D, 'All Items/Blocks'!$G$2:$G}, 'All Items/Blocks'!$B$2:$B=A11);{\"\",\"\",\"\"}}, {\"\", \"\", \"\"})});IF(ISBLANK(A12), {\"\",\"\",\"\"}, {{A12, \"Adv/Item\", \"Description\"};IFERROR({FILTER({'All Items/Blocks'!$C$2:$D, 'All Items/Blocks'!$G$2:$G}, 'All Items/Blocks'!$B$2:$B=A12);{\"\",\"\",\"\"}}, {\"\", \"\", \"\"})});IF(ISBLANK(A13), {\"\",\"\",\"\"}, {{A13, \"Adv/Item\", \"Description\"};IFERROR({FILTER({'All Items/Blocks'!$C$2:$D, 'All Items/Blocks'!$G$2:$G}, 'All Items/Blocks'!$B$2:$B=A13);{\"\",\"\",\"\"}}, {\"\", \"\", \"\"})});IF(ISBLANK(A14), {\"\",\"\",\"\"}, {{A14, \"Adv/Item\", \"Description\"};IFERROR({FILTER({'All Items/Blocks'!$C$2:$D, 'All Items/Blocks'!$G$2:$G}, 'All Items/Blocks'!$B$2:$B=A14);{\"\",\"\",\"\"}}, {\"\", \"\", \"\"})});IF(ISBLANK(A15), {\"\",\"\",\"\"}, {{A15, \"Adv/Item\", \"Description\"};IFERROR({FILTER({'All Items/Blocks'!$C$2:$D, 'All Items/Blocks'!$G$2:$G}, 'All Items/Blocks'!$B$2:$B=A15);{\"\",\"\",\"\"}}, {\"\", \"\", \"\"})});IF(ISBLANK(A16), {\"\",\"\",\"\"}, {{A16, \"Adv/Item\", \"Description\"};IFERROR({FILTER({'All Items/Blocks'!$C$2:$D, 'All Items/Blocks'!$G$2:$G}, 'All Items/Blocks'!$B$2:$B=A16);{\"\",\"\",\"\"}}, {\"\", \"\", \"\"})});IF(ISBLANK(A17), {\"\",\"\",\"\"}, {{A17, \"Adv/Item\", \"Description\"};IFERROR({FILTER({'All Items/Blocks'!$C$2:$D, 'All Items/Blocks'!$G$2:$G}, 'All Items/Blocks'!$B$2:$B=A17);{\"\",\"\",\"\"}}, {\"\", \"\", \"\"})});IF(ISBLANK(A18), {\"\",\"\",\"\"}, {{A18, \"Adv/Item\", \"Description\"};IFERROR({FILTER({'All Items/Blocks'!$C$2:$D, 'All Items/Blocks'!$G$2:$G}, 'All Items/Blocks'!$B$2:$B=A18);{\"\",\"\",\"\"}}, {\"\", \"\", \"\"})});IF(ISBLANK(A19), {\"\",\"\",\"\"}, {{A19, \"Adv/Item\", \"Description\"};IFERROR({FILTER({'All Items/Blocks'!$C$2:$D, 'All Items/Blocks'!$G$2:$G}, 'All Items/Blocks'!$B$2:$B=A19);{\"\",\"\",\"\"}}, {\"\", \"\", \"\"})});IF(ISBLANK(A20), {\"\",\"\",\"\"}, {{A20, \"Adv/Item\", \"Description\"};IFERROR({FILTER({'All Items/Blocks'!$C$2:$D, 'All Items/Blocks'!$G$2:$G}, 'All Items/Blocks'!$B$2:$B=A20);{\"\",\"\",\"\"}}, {\"\", \"\", \"\"})});IF(ISBLANK(A21), {\"\",\"\",\"\"}, {{A21, \"Adv/Item\", \"Description\"};IFERROR({FILTER({'All Items/Blocks'!$C$2:$D, 'All Items/Blocks'!$G$2:$G}, 'All Items/Blocks'!$B$2:$B=A21);{\"\",\"\",\"\"}}, {\"\", \"\", \"\"})});IF(ISBLANK(A22), {\"\",\"\",\"\"}, {{A22, \"Adv/Item\", \"Description\"};IFERROR({FILTER({'All Items/Blocks'!$C$2:$D, 'All Items/Blocks'!$G$2:$G}, 'All Items/Blocks'!$B$2:$B=A22);{\"\",\"\",\"\"}}, {\"\", \"\", \"\"})});IF(ISBLANK(A23), {\"\",\"\",\"\"}, {{A23, \"Adv/Item\", \"Description\"};IFERROR({FILTER({'All Items/Blocks'!$C$2:$D, 'All Items/Blocks'!$G$2:$G}, 'All Items/Blocks'!$B$2:$B=A23);{\"\",\"\",\"\"}}, {\"\", \"\", \"\"})})\n"
     ]
    }
   ],
   "source": [
    "reference = '''IF(ISBLANK(A3), {\"\",\"\",\"\"}, {{A3, \"Adv/Item\", \"Description\"};IFERROR({FILTER({'All Items/Blocks'!$C$2:$D, 'All Items/Blocks'!$G$2:$G}, 'All Items/Blocks'!$B$2:$B=A3);{\"\",\"\",\"\"}}, {\"\", \"\", \"\"})})'''\n",
    "full_string = reference\n",
    "\n",
    "for i in range(20):\n",
    "    row = i + 4\n",
    "    full_string += ';' + reference.replace(\"A3\", f'A{row}')\n",
    "\n",
    "print(full_string)"
   ]
  },
  {
   "cell_type": "code",
   "execution_count": null,
   "metadata": {},
   "outputs": [],
   "source": []
  }
 ],
 "metadata": {
  "kernelspec": {
   "display_name": "Python 3.10.5 64-bit",
   "language": "python",
   "name": "python3"
  },
  "language_info": {
   "codemirror_mode": {
    "name": "ipython",
    "version": 3
   },
   "file_extension": ".py",
   "mimetype": "text/x-python",
   "name": "python",
   "nbconvert_exporter": "python",
   "pygments_lexer": "ipython3",
   "version": "3.10.5"
  },
  "orig_nbformat": 4,
  "vscode": {
   "interpreter": {
    "hash": "26de051ba29f2982a8de78e945f0abaf191376122a1563185a90213a26c5da77"
   }
  }
 },
 "nbformat": 4,
 "nbformat_minor": 2
}
